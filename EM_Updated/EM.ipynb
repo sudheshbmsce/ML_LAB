{
 "cells": [
  {
   "cell_type": "code",
   "execution_count": 2,
   "id": "a24aa027",
   "metadata": {},
   "outputs": [
    {
     "name": "stdout",
     "output_type": "stream",
     "text": [
      "import done\n",
      "Input Gaussian 1: μ = 2.0, σ = 4.0\n",
      "Input Gaussian 2: μ = 9.0, σ = 2.0\n",
      "Input Gaussian 1: μ = 2.0, σ = 4.0\n",
      "Input Gaussian 2: μ = 9.0, σ = 2.0\n",
      "Gaussian 1: μ = 1.7, σ = 3.8, weight = 0.61\n",
      "Gaussian 2: μ = 8.8, σ = 2.2, weight = 0.39\n"
     ]
    },
    {
     "name": "stderr",
     "output_type": "stream",
     "text": [
      "C:\\Users\\Admin\\anaconda3\\lib\\site-packages\\seaborn\\distributions.py:2619: FutureWarning: `distplot` is a deprecated function and will be removed in a future version. Please adapt your code to use either `displot` (a figure-level function with similar flexibility) or `histplot` (an axes-level function for histograms).\n",
      "  warnings.warn(msg, FutureWarning)\n",
      "C:\\Users\\Admin\\anaconda3\\lib\\site-packages\\seaborn\\distributions.py:2619: FutureWarning: `distplot` is a deprecated function and will be removed in a future version. Please adapt your code to use either `displot` (a figure-level function with similar flexibility) or `histplot` (an axes-level function for histograms).\n",
      "  warnings.warn(msg, FutureWarning)\n"
     ]
    },
    {
     "data": {
      "image/png": "[encoded data removed]",
      "text/plain": [
       "<Figure size 640x480 with 1 Axes>"
      ]
     },
     "metadata": {},
     "output_type": "display_data"
    }
   ],
   "source": [
    "# import libraries\n",
    "\n",
    "# For plotting\n",
    "import matplotlib.pyplot as plt\n",
    "import seaborn as sns\n",
    "sns.set_style(\"white\")\n",
    "%matplotlib inline\n",
    "#for matrix math\n",
    "import numpy as np\n",
    "#for normalization + probability density function computation\n",
    "from scipy import stats\n",
    "#for data preprocessing\n",
    "import pandas as pd\n",
    "from math import sqrt, log, exp, pi\n",
    "from random import uniform\n",
    "print(\"import done\")\n",
    "\n",
    "\n",
    "\n",
    "random_seed=36788765\n",
    "np.random.seed(random_seed)\n",
    "\n",
    "Mean1 = 2.0  # Input parameter, mean of first normal probability distribution\n",
    "Standard_dev1 = 4.0 #@param {type:\"number\"}\n",
    "Mean2 = 9.0 # Input parameter, mean of second normal  probability distribution\n",
    "Standard_dev2 = 2.0 #@param {type:\"number\"}\n",
    "\n",
    "# generate data\n",
    "y1 = np.random.normal(Mean1, Standard_dev1, 1000)\n",
    "y2 = np.random.normal(Mean2, Standard_dev2, 500)\n",
    "data=np.append(y1,y2)\n",
    "\n",
    "# For data visiualisation calculate left and right of the graph\n",
    "Min_graph = min(data)\n",
    "Max_graph = max(data)\n",
    "x = np.linspace(Min_graph, Max_graph, 2000) # to plot the data\n",
    "\n",
    "print('Input Gaussian {:}: μ = {:.2}, σ = {:.2}'.format(\"1\", Mean1, Standard_dev1))\n",
    "print('Input Gaussian {:}: μ = {:.2}, σ = {:.2}'.format(\"2\", Mean2, Standard_dev2))\n",
    "sns.distplot(data, bins=20, kde=False)\n",
    "\n",
    "\n",
    "\n",
    "from sklearn.mixture import GaussianMixture\n",
    "gmm = GaussianMixture(n_components = 2, tol=0.000001, max_iter = 100)\n",
    "gmm.fit(np.expand_dims(data, 1)) # Parameters: array-like, shape (n_samples, n_features), 1 dimension dataset so 1 feature\n",
    "Gaussian_nr = 1\n",
    "print('Input Gaussian {:}: μ = {:.2}, σ = {:.2}'.format(\"1\", Mean1, Standard_dev1))\n",
    "print('Input Gaussian {:}: μ = {:.2}, σ = {:.2}'.format(\"2\", Mean2, Standard_dev2))\n",
    "for mu, sd, p in zip(gmm.means_.flatten(), np.sqrt(gmm.covariances_.flatten()), gmm.weights_):\n",
    "    print('Gaussian {:}: μ = {:.2}, σ = {:.2}, weight = {:.2}'.format(Gaussian_nr, mu, sd, p))\n",
    "    g_s = stats.norm(mu, sd).pdf(x) * p\n",
    "    plt.plot(x, g_s, label='gaussian sklearn');\n",
    "    Gaussian_nr += 1\n",
    "sns.distplot(data, bins=20, kde=False, norm_hist=True)\n",
    "gmm_sum = np.exp([gmm.score_samples(e.reshape(-1, 1)) for e in x]) #gmm gives log probability, hence the exp() function\n",
    "plt.plot(x, gmm_sum, label='gaussian mixture');\n",
    "plt.legend();"
   ]
  },
  {
   "cell_type": "code",
   "execution_count": null,
   "id": "3439eb11",
   "metadata": {},
   "outputs": [],
   "source": []
  }
 ],
 "metadata": {
  "kernelspec": {
   "display_name": "Python 3 (ipykernel)",
   "language": "python",
   "name": "python3"
  },
  "language_info": {
   "codemirror_mode": {
    "name": "ipython",
    "version": 3
   },
   "file_extension": ".py",
   "mimetype": "text/x-python",
   "name": "python",
   "nbconvert_exporter": "python",
   "pygments_lexer": "ipython3",
   "version": "3.9.13"
  }
 },
 "nbformat": 4,
 "nbformat_minor": 5
}
